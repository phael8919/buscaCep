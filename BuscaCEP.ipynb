{
 "cells": [
  {
   "cell_type": "code",
   "execution_count": 38,
   "id": "6decd27c",
   "metadata": {},
   "outputs": [],
   "source": [
    "import requests #Captura a URL\n",
    "import json #Exibe o conteúdo do json\n",
    "\n",
    "def buscaCep():\n",
    "    try:\n",
    "        #Caixa de diálogo para digitar o cep\n",
    "        cep = input('Digite o cep: ')\n",
    "\n",
    "        #FAzendo requisiçao a API dos Correios pela url e capturando o conteúdo da busca\n",
    "        url = requests.get('https://viacep.com.br/ws/'+cep+'/json/').content\n",
    "\n",
    "        #Exibe o dicionário\n",
    "        dic = json.loads(url)    \n",
    "       \n",
    "        #Exibe o endereço completo de acordo com o cep\n",
    "        print(f'Logradouro: {dic[\"logradouro\"]}')\n",
    "        print(f'Bairro: {dic[\"bairro\"]}')  \n",
    "        print(f'Cidade: {dic[\"localidade\"]}')\n",
    "        print(f'UF: {dic[\"uf\"]}')\n",
    "    except:\n",
    "        print('Verifique se o cep foi digitado corretamente e tente novamente')"
   ]
  },
  {
   "cell_type": "code",
   "execution_count": 41,
   "id": "7e169476",
   "metadata": {},
   "outputs": [
    {
     "name": "stdout",
     "output_type": "stream",
     "text": [
      "Digite o cep: 30130003\n",
      "Logradouro: Avenida Afonso Pena\n",
      "Bairro: Centro\n",
      "Cidade: Belo Horizonte\n",
      "UF: MG\n"
     ]
    }
   ],
   "source": [
    "buscaCep()"
   ]
  },
  {
   "cell_type": "code",
   "execution_count": null,
   "id": "c95d1c8b",
   "metadata": {},
   "outputs": [],
   "source": []
  }
 ],
 "metadata": {
  "kernelspec": {
   "display_name": "Python 3 (ipykernel)",
   "language": "python",
   "name": "python3"
  },
  "language_info": {
   "codemirror_mode": {
    "name": "ipython",
    "version": 3
   },
   "file_extension": ".py",
   "mimetype": "text/x-python",
   "name": "python",
   "nbconvert_exporter": "python",
   "pygments_lexer": "ipython3",
   "version": "3.9.12"
  }
 },
 "nbformat": 4,
 "nbformat_minor": 5
}
